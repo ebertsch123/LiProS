{
  "nbformat": 4,
  "nbformat_minor": 0,
  "metadata": {
    "colab": {
      "provenance": [],
      "authorship_tag": "ABX9TyMusnEbezZnDZhYGZhuLVno",
      "include_colab_link": true
    },
    "kernelspec": {
      "name": "python3",
      "display_name": "Python 3"
    },
    "language_info": {
      "name": "python"
    }
  },
  "cells": [
    {
      "cell_type": "markdown",
      "metadata": {
        "id": "view-in-github",
        "colab_type": "text"
      },
      "source": [
        "<a href=\"https://colab.research.google.com/github/ebertsch123/LiProS/blob/main/LiProS.ipynb\" target=\"_parent\"><img src=\"https://colab.research.google.com/assets/colab-badge.svg\" alt=\"Open In Colab\"/></a>"
      ]
    },
    {
      "cell_type": "markdown",
      "source": [
        "# LiProS\n",
        "A FAIR workflow to determine accurate lipophilicity profiles for small molecules."
      ],
      "metadata": {
        "id": "5eKRJW8ANY0F"
      }
    },
    {
      "cell_type": "markdown",
      "source": [
        "## 1. Insert your data"
      ],
      "metadata": {
        "id": "h8p6ANfKNqH_"
      }
    },
    {
      "cell_type": "code",
      "source": [],
      "metadata": {
        "id": "nVGp0A57N4sM"
      },
      "execution_count": null,
      "outputs": []
    },
    {
      "cell_type": "markdown",
      "source": [
        "## 2. Is it acidic or basic?"
      ],
      "metadata": {
        "id": "R3VMkiWFNzOU"
      }
    },
    {
      "cell_type": "code",
      "source": [],
      "metadata": {
        "id": "bRMghhh4Nxui"
      },
      "execution_count": null,
      "outputs": []
    },
    {
      "cell_type": "markdown",
      "source": [
        "## 3. Calculate descriptors"
      ],
      "metadata": {
        "id": "IXH50MNLN5t0"
      }
    },
    {
      "cell_type": "code",
      "source": [],
      "metadata": {
        "id": "PIdPuEyLN-Wd"
      },
      "execution_count": null,
      "outputs": []
    },
    {
      "cell_type": "markdown",
      "source": [
        "## 4. Load ML models"
      ],
      "metadata": {
        "id": "SwUROsBGN-43"
      }
    },
    {
      "cell_type": "code",
      "source": [],
      "metadata": {
        "id": "iIYQj8-MOITs"
      },
      "execution_count": null,
      "outputs": []
    },
    {
      "cell_type": "markdown",
      "source": [
        "## 5. Which lipophilicity equation is the most accurate for your molecule(s)?"
      ],
      "metadata": {
        "id": "7202uFiIOJds"
      }
    },
    {
      "cell_type": "code",
      "source": [],
      "metadata": {
        "id": "HiXCKuIfORua"
      },
      "execution_count": null,
      "outputs": []
    }
  ]
}